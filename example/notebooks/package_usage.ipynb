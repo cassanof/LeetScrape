{
 "cells": [
  {
   "attachments": {},
   "cell_type": "markdown",
   "metadata": {},
   "source": [
    "Scrape Questions and metadata\n"
   ]
  },
  {
   "cell_type": "code",
   "execution_count": 1,
   "metadata": {},
   "outputs": [],
   "source": [
    "from leetscrape.GetQuestionsList import GetQuestionsList\n",
    "from leetscrape.GetQuestionInfo import GetQuestionInfo\n",
    "from leetscrape.utils import (\n",
    "    combine_list_and_info,\n",
    "    get_all_questions_body,\n",
    ")\n",
    "import pandas as pd\n",
    "import pickle\n",
    "from sqlalchemy import create_engine, update\n",
    "from dotenv import dotenv_values\n"
   ]
  },
  {
   "attachments": {},
   "cell_type": "markdown",
   "metadata": {},
   "source": [
    "Query the question list\n"
   ]
  },
  {
   "cell_type": "code",
   "execution_count": 2,
   "metadata": {},
   "outputs": [
    {
     "name": "stdout",
     "output_type": "stream",
     "text": [
      "Scraping companies ... Done\n",
      "Scraping questions list ... Done\n",
      "Extracting question topics ... Done\n",
      "Getting Categories ... Done\n",
      "Scraping Topic Tags ... Done\n",
      "Extracting question category ... Done\n"
     ]
    }
   ],
   "source": [
    "ls = GetQuestionsList()\n",
    "ls.scrape()  # Scrape the list of questions\n",
    "ls.to_csv(directory_path=\"../data_test/\")  # Save the scraped tables to a directory\n"
   ]
  },
  {
   "attachments": {},
   "cell_type": "markdown",
   "metadata": {},
   "source": [
    "Query Individual question info such as the body, test cases, constraints, hints, code stubs, etc.\n"
   ]
  },
  {
   "cell_type": "code",
   "execution_count": 1,
   "metadata": {},
   "outputs": [
    {
     "name": "stdout",
     "output_type": "stream",
     "text": [
      "{'data': {'question': {'questionFrontendId': '487', 'hints': [], 'companyTags': None, 'similarQuestions': '[{\"title\": \"Max Consecutive Ones\", \"titleSlug\": \"max-consecutive-ones\", \"difficulty\": \"Easy\", \"translatedTitle\": null}, {\"title\": \"Max Consecutive Ones III\", \"titleSlug\": \"max-consecutive-ones-iii\", \"difficulty\": \"Medium\", \"translatedTitle\": null}, {\"title\": \"All Divisions With the Highest Score of a Binary Array\", \"titleSlug\": \"all-divisions-with-the-highest-score-of-a-binary-array\", \"difficulty\": \"Medium\", \"translatedTitle\": null}]', 'codeSnippets': None, 'content': None}}}\n",
      "None\n"
     ]
    },
    {
     "ename": "TypeError",
     "evalue": "'NoneType' object is not iterable",
     "output_type": "error",
     "traceback": [
      "\u001b[1;31m---------------------------------------------------------------------------\u001b[0m",
      "\u001b[1;31mTypeError\u001b[0m                                 Traceback (most recent call last)",
      "Cell \u001b[1;32mIn[1], line 3\u001b[0m\n\u001b[0;32m      1\u001b[0m \u001b[39mfrom\u001b[39;00m \u001b[39mleetscrape\u001b[39;00m\u001b[39m.\u001b[39;00m\u001b[39mGetQuestionInfo\u001b[39;00m \u001b[39mimport\u001b[39;00m GetQuestionInfo\n\u001b[0;32m      2\u001b[0m qi \u001b[39m=\u001b[39m GetQuestionInfo(titleSlug\u001b[39m=\u001b[39m\u001b[39m\"\u001b[39m\u001b[39mmax-consecutive-ones-ii\u001b[39m\u001b[39m\"\u001b[39m)\n\u001b[1;32m----> 3\u001b[0m qi\u001b[39m.\u001b[39;49mscrape()\n",
      "File \u001b[1;32mD:\\code\\Leetcode\\leetscrape\\src\\leetscrape\\GetQuestionInfo.py:108\u001b[0m, in \u001b[0;36mGetQuestionInfo.scrape\u001b[1;34m(self)\u001b[0m\n\u001b[0;32m    100\u001b[0m \u001b[39mself\u001b[39m\u001b[39m.\u001b[39mreq \u001b[39m=\u001b[39m req\u001b[39m.\u001b[39mjson()\n\u001b[0;32m    101\u001b[0m \u001b[39mprint\u001b[39m(\u001b[39mself\u001b[39m\u001b[39m.\u001b[39mreq)\n\u001b[0;32m    102\u001b[0m \u001b[39mreturn\u001b[39;00m QuestionInfo(\n\u001b[0;32m    103\u001b[0m     QID\u001b[39m=\u001b[39m\u001b[39mself\u001b[39m\u001b[39m.\u001b[39mreq[\u001b[39m\"\u001b[39m\u001b[39mdata\u001b[39m\u001b[39m\"\u001b[39m][\u001b[39m\"\u001b[39m\u001b[39mquestion\u001b[39m\u001b[39m\"\u001b[39m][\u001b[39m\"\u001b[39m\u001b[39mquestionFrontendId\u001b[39m\u001b[39m\"\u001b[39m],\n\u001b[0;32m    104\u001b[0m     titleSlug\u001b[39m=\u001b[39m\u001b[39mself\u001b[39m\u001b[39m.\u001b[39mtitleSlug,\n\u001b[0;32m    105\u001b[0m     Hints\u001b[39m=\u001b[39m\u001b[39mself\u001b[39m\u001b[39m.\u001b[39mreq[\u001b[39m\"\u001b[39m\u001b[39mdata\u001b[39m\u001b[39m\"\u001b[39m][\u001b[39m\"\u001b[39m\u001b[39mquestion\u001b[39m\u001b[39m\"\u001b[39m][\u001b[39m\"\u001b[39m\u001b[39mhints\u001b[39m\u001b[39m\"\u001b[39m],\n\u001b[0;32m    106\u001b[0m     Companies\u001b[39m=\u001b[39m\u001b[39mself\u001b[39m\u001b[39m.\u001b[39mreq[\u001b[39m\"\u001b[39m\u001b[39mdata\u001b[39m\u001b[39m\"\u001b[39m][\u001b[39m\"\u001b[39m\u001b[39mquestion\u001b[39m\u001b[39m\"\u001b[39m][\u001b[39m\"\u001b[39m\u001b[39mcompanyTags\u001b[39m\u001b[39m\"\u001b[39m],\n\u001b[0;32m    107\u001b[0m     SimilarQuestions\u001b[39m=\u001b[39m\u001b[39mself\u001b[39m\u001b[39m.\u001b[39mget_similar_questions(),\n\u001b[1;32m--> 108\u001b[0m     Code\u001b[39m=\u001b[39m\u001b[39mself\u001b[39;49m\u001b[39m.\u001b[39;49mget_code_snippet(),\n\u001b[0;32m    109\u001b[0m     Body\u001b[39m=\u001b[39m\u001b[39mself\u001b[39m\u001b[39m.\u001b[39mreq[\u001b[39m\"\u001b[39m\u001b[39mdata\u001b[39m\u001b[39m\"\u001b[39m][\u001b[39m\"\u001b[39m\u001b[39mquestion\u001b[39m\u001b[39m\"\u001b[39m][\u001b[39m\"\u001b[39m\u001b[39mcontent\u001b[39m\u001b[39m\"\u001b[39m],\n\u001b[0;32m    110\u001b[0m )\n",
      "File \u001b[1;32mD:\\code\\Leetcode\\leetscrape\\src\\leetscrape\\GetQuestionInfo.py:136\u001b[0m, in \u001b[0;36mGetQuestionInfo.get_code_snippet\u001b[1;34m(self)\u001b[0m\n\u001b[0;32m    127\u001b[0m \u001b[39m\u001b[39m\u001b[39m\"\"\"A helper method to extract the code snippets from the query response.\u001b[39;00m\n\u001b[0;32m    128\u001b[0m \u001b[39mCurrently, this method returns the Python3 code snippet if available,\u001b[39;00m\n\u001b[0;32m    129\u001b[0m \u001b[39melse it returns a barebones Python3 code snippet with the class name and\u001b[39;00m\n\u001b[1;32m   (...)\u001b[0m\n\u001b[0;32m    133\u001b[0m \u001b[39m    str: Python3 code snippet\u001b[39;00m\n\u001b[0;32m    134\u001b[0m \u001b[39m\"\"\"\u001b[39;00m\n\u001b[0;32m    135\u001b[0m \u001b[39mprint\u001b[39m(\u001b[39mself\u001b[39m\u001b[39m.\u001b[39mreq[\u001b[39m\"\u001b[39m\u001b[39mdata\u001b[39m\u001b[39m\"\u001b[39m][\u001b[39m\"\u001b[39m\u001b[39mquestion\u001b[39m\u001b[39m\"\u001b[39m][\u001b[39m\"\u001b[39m\u001b[39mcodeSnippets\u001b[39m\u001b[39m\"\u001b[39m])\n\u001b[1;32m--> 136\u001b[0m python_code_snippet \u001b[39m=\u001b[39m [\n\u001b[0;32m    137\u001b[0m     code_snippet\n\u001b[0;32m    138\u001b[0m     \u001b[39mfor\u001b[39;00m code_snippet \u001b[39min\u001b[39;00m \u001b[39mself\u001b[39m\u001b[39m.\u001b[39mreq[\u001b[39m\"\u001b[39m\u001b[39mdata\u001b[39m\u001b[39m\"\u001b[39m][\u001b[39m\"\u001b[39m\u001b[39mquestion\u001b[39m\u001b[39m\"\u001b[39m][\u001b[39m\"\u001b[39m\u001b[39mcodeSnippets\u001b[39m\u001b[39m\"\u001b[39m]\n\u001b[0;32m    139\u001b[0m     \u001b[39mif\u001b[39;00m code_snippet[\u001b[39m\"\u001b[39m\u001b[39mlangSlug\u001b[39m\u001b[39m\"\u001b[39m] \u001b[39m==\u001b[39m \u001b[39m\"\u001b[39m\u001b[39mpython3\u001b[39m\u001b[39m\"\u001b[39m\n\u001b[0;32m    140\u001b[0m ]\n\u001b[0;32m    141\u001b[0m \u001b[39mif\u001b[39;00m \u001b[39mlen\u001b[39m(python_code_snippet) \u001b[39m>\u001b[39m \u001b[39m0\u001b[39m:\n\u001b[0;32m    142\u001b[0m     \u001b[39mreturn\u001b[39;00m python_code_snippet[\u001b[39m0\u001b[39m][\u001b[39m\"\u001b[39m\u001b[39mcode\u001b[39m\u001b[39m\"\u001b[39m]\n",
      "\u001b[1;31mTypeError\u001b[0m: 'NoneType' object is not iterable"
     ]
    }
   ],
   "source": [
    "from leetscrape.GetQuestionInfo import GetQuestionInfo\n",
    "qi = GetQuestionInfo(titleSlug=\"max-consecutive-ones-ii\")\n",
    "qi.scrape()"
   ]
  },
  {
   "cell_type": "code",
   "execution_count": 7,
   "metadata": {},
   "outputs": [],
   "source": [
    "# # This table can be generated using the previous commnd using\n",
    "# # questions_info = ls.questions\n",
    "# questions_info = pd.read_csv(\"../data/questions.csv\")\n",
    "\n",
    "# # Scrape question body\n",
    "# questions_body_list = get_all_questions_body(\n",
    "#     questions_info[\"titleSlug\"].tolist(),\n",
    "#     questions_info[\"paidOnly\"].tolist(),\n",
    "#     save_to=\"../data/questionBody.pickle\",\n",
    "# )\n",
    "\n",
    "# # Save to a pandas dataframe\n",
    "# questions_body = pd.DataFrame(\n",
    "#     questions_body_list\n",
    "# ).drop(columns=[\"titleSlug\"])\n",
    "# questions_body[\"QID\"] = questions_body[\"QID\"].astype(int)\n",
    "\n",
    "\n",
    "\"\"\" Run the above code stub once and save the data as a pickle file. Using this data\n",
    "from now on since the above code stub is time consuming. \"\"\"\n",
    "questions = pd.read_csv(\"../data/questions.csv\")\n",
    "with open(\"../data/questionBody.pickle\", \"rb\") as f:\n",
    "    data = pickle.load(f)\n",
    "questions_body = pd.DataFrame(data).drop(columns=[\"titleSlug\"])\n",
    "questions_body[\"QID\"] = questions_body[\"QID\"].astype(int)\n"
   ]
  },
  {
   "attachments": {},
   "cell_type": "markdown",
   "metadata": {},
   "source": [
    "Create a new dataframe with all the questions with their metadata and body information.\n"
   ]
  },
  {
   "cell_type": "code",
   "execution_count": 8,
   "metadata": {},
   "outputs": [],
   "source": [
    "questions = combine_list_and_info(\n",
    "    info_df=questions_body, list_df=questions, save_to=\"../data/all.json\"\n",
    ")\n"
   ]
  },
  {
   "attachments": {},
   "cell_type": "markdown",
   "metadata": {},
   "source": [
    "Data Upload to SUPABASE table|s\n"
   ]
  },
  {
   "cell_type": "code",
   "execution_count": 7,
   "metadata": {},
   "outputs": [],
   "source": [
    "from sqlalchemy import create_engine\n",
    "from sqlalchemy.orm import sessionmaker\n",
    "from dotenv import dotenv_values\n",
    "\n",
    "config = dotenv_values(\"../../.env\")\n"
   ]
  },
  {
   "cell_type": "code",
   "execution_count": 22,
   "metadata": {},
   "outputs": [],
   "source": [
    "engine = create_engine(\n",
    "    f\"postgresql://{config['SUPABASE_USERNAME']}:{config['SUPABASE_PASSWORD']}@{config['SUPABASE_HOSTNAME']}:{config['SUPABASE_PORT']}/{config['SUPABASE_DBNAME']}\",\n",
    "    echo=True,\n",
    ")\n",
    "questions.to_sql(con=engine, name=\"questions\", if_exists=\"append\", index=False)\n",
    "ls.topicTags.to_sql(con=engine, name=\"topic_tags\", if_exists=\"append\", index=False)\n",
    "ls.categories.to_sql(con=engine, name=\"categories\", if_exists=\"append\", index=False)\n",
    "ls.companies.to_sql(con=engine, name=\"companies\", if_exists=\"append\", index=False)\n",
    "ls.questionTopics.to_sql(\n",
    "    con=engine, name=\"question_topics\", if_exists=\"append\", index=True, index_label=\"id\"\n",
    ")\n",
    "ls.questionCategory.to_sql(\n",
    "    con=engine,\n",
    "    name=\"question_category\",\n",
    "    if_exists=\"append\",\n",
    "    index=True,\n",
    "    index_label=\"id\",\n",
    ")\n"
   ]
  },
  {
   "attachments": {},
   "cell_type": "markdown",
   "metadata": {},
   "source": [
    "Generate questions and test cases"
   ]
  },
  {
   "cell_type": "code",
   "execution_count": 1,
   "metadata": {},
   "outputs": [
    {
     "name": "stdout",
     "output_type": "stream",
     "text": [
      "Generating code stub for 487. max-consecutive-ones-ii\n"
     ]
    },
    {
     "name": "stderr",
     "output_type": "stream",
     "text": [
      "D:\\code\\Leetcode\\leetscrape\\src\\leetscrape\\GetQuestionInfo.py:157: UserWarning: This questions is only for paid Leetcode subscribers.\n",
      "  warnings.warn(\"This questions is only for paid Leetcode subscribers.\")\n",
      "D:\\code\\Leetcode\\leetscrape\\src\\leetscrape\\GetQuestionInfo.py:122: UserWarning: This questions is only for paid Leetcode subscribers.\n",
      "  warnings.warn(\"This questions is only for paid Leetcode subscribers.\")\n"
     ]
    },
    {
     "name": "stdout",
     "output_type": "stream",
     "text": [
      "Code stub save to q_0487_maxConsecutiveOnesIi.py\n"
     ]
    }
   ],
   "source": [
    "from leetscrape.GenerateCodeStub import GenerateCodeStub, parse_args\n",
    "\n",
    "fcs = GenerateCodeStub(qid=487)\n",
    "fcs.generate_code_stub_and_tests()"
   ]
  },
  {
   "cell_type": "code",
   "execution_count": 43,
   "metadata": {},
   "outputs": [
    {
     "data": {
      "text/plain": [
       "{'Output': True}"
      ]
     },
     "execution_count": 43,
     "metadata": {},
     "output_type": "execute_result"
    }
   ],
   "source": [
    "import re\n",
    "test = \"\"\"\n",
    "Input: s = \"ab\", p = \".*\"\n",
    "Output: true\n",
    "Explanation: \".*\" means \"zero or more (*) of any character (.)\".\n",
    "\"\"\"\n",
    "m = re.search(\"Output: (.*)\\n\", test.replace(\"true\", \"True\").replace(\"false\", \"False\"))\n",
    "parse_args(\n",
    "    m.group(0).replace(\"Output: \", \"Output= \").replace(\"\\n\", \"\")\n",
    ")\n"
   ]
  },
  {
   "attachments": {},
   "cell_type": "markdown",
   "metadata": {},
   "source": [
    "Extract solutions from py file and upload them to the database"
   ]
  },
  {
   "cell_type": "code",
   "execution_count": 1,
   "metadata": {},
   "outputs": [],
   "source": [
    "from leetscrape.ExtractSolutions import ExtractSolutions, upload_solutions\n",
    "from sqlalchemy import create_engine\n",
    "from dotenv import dotenv_values\n",
    "config = dotenv_values(\"../../.env\")"
   ]
  },
  {
   "cell_type": "code",
   "execution_count": 7,
   "metadata": {},
   "outputs": [],
   "source": [
    "\n",
    "eng = create_engine(\n",
    "    f\"postgresql://{config['SUPABASE_USERNAME']}:{config['SUPABASE_PASSWORD']}@{config['SUPABASE_HOSTNAME']}:{config['SUPABASE_PORT']}/{config['SUPABASE_DBNAME']}\",\n",
    "    echo=False,\n",
    ")\n",
    "es = ExtractSolutions(\"D:\\code\\Leetcode\\Leetcode-solutions\\questions\\q_0007_reverseInteger.py\")\n",
    "sols = es.extract()\n",
    "# upload_solutions(eng,7, sols)"
   ]
  },
  {
   "cell_type": "code",
   "execution_count": 9,
   "metadata": {},
   "outputs": [
    {
     "data": {
      "text/plain": [
       "[{'args': ['param', 'x (int)'],\n",
       "  'description': 'A signed 32-bit integer whose digits need to be reversed.',\n",
       "  'arg_name': 'x',\n",
       "  'type_name': 'int',\n",
       "  'is_optional': False,\n",
       "  'default': None}]"
      ]
     },
     "execution_count": 9,
     "metadata": {},
     "output_type": "execute_result"
    }
   ],
   "source": [
    "sols[0]['docs']['args']"
   ]
  },
  {
   "cell_type": "code",
   "execution_count": null,
   "metadata": {},
   "outputs": [],
   "source": []
  }
 ],
 "metadata": {
  "kernelspec": {
   "display_name": ".venv",
   "language": "python",
   "name": "python3"
  },
  "language_info": {
   "codemirror_mode": {
    "name": "ipython",
    "version": 3
   },
   "file_extension": ".py",
   "mimetype": "text/x-python",
   "name": "python",
   "nbconvert_exporter": "python",
   "pygments_lexer": "ipython3",
   "version": "3.10.7"
  },
  "orig_nbformat": 4,
  "vscode": {
   "interpreter": {
    "hash": "b3f3b27324d3dffefcfe684ee5f63d23987742678b59d2ebc9e4a131ef9fcba7"
   }
  }
 },
 "nbformat": 4,
 "nbformat_minor": 2
}
