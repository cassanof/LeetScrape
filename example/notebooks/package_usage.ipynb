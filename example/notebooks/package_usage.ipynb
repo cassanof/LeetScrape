{
 "cells": [
  {
   "attachments": {},
   "cell_type": "markdown",
   "metadata": {},
   "source": [
    "Scrape Questions and metadata"
   ]
  },
  {
   "cell_type": "code",
   "execution_count": 1,
   "metadata": {},
   "outputs": [],
   "source": [
    "from leetscrape.GetQuestionsList import GetQuestionsList\n",
    "from leetscrape.GetQuestionInfo import GetQuestionInfo\n",
    "from leetscrape.utils import (\n",
    "    combine_list_and_info,\n",
    "    get_all_questions_body,\n",
    "    extract_solutions,\n",
    "    upload_solutions,\n",
    ")\n",
    "import pandas as pd\n",
    "import pickle\n",
    "from sqlalchemy import create_engine, update\n",
    "from dotenv import dotenv_values\n",
    "\n"
   ]
  },
  {
   "attachments": {},
   "cell_type": "markdown",
   "metadata": {},
   "source": [
    "Query the question list"
   ]
  },
  {
   "cell_type": "code",
   "execution_count": 4,
   "metadata": {},
   "outputs": [
    {
     "name": "stdout",
     "output_type": "stream",
     "text": [
      "Note: The default ALL_JSON_URL might be out-of-date. Please update it by going to https://leetcode.com/problemset/all/ and exploring the Networks tab for a query returning all.json.\n",
      "Scraping companies ... Done\n",
      "Scraping questions list ... Done\n",
      "Extracting question topics ... Done\n",
      "Getting Categories ... Done\n",
      "Scraping Topic Tags ... Done\n",
      "Extracting question category ... Done\n"
     ]
    }
   ],
   "source": [
    "ls = GetQuestionsList()\n",
    "ls.scrape() # Scrape the list of questions\n",
    "ls.to_csv(directory_path=\"../data_test/\") # Save the scraped tables to a directory"
   ]
  },
  {
   "attachments": {},
   "cell_type": "markdown",
   "metadata": {},
   "source": [
    "Query Individual question info such as the body, test cases, constraints, hints, code stubs, etc."
   ]
  },
  {
   "cell_type": "code",
   "execution_count": 2,
   "metadata": {},
   "outputs": [],
   "source": [
    "# # This table can be generated using the previous commnd using\n",
    "# # questions_info = ls.questions\n",
    "# questions_info = pd.read_csv(\"../data/questions.csv\")\n",
    "\n",
    "# # Scrape question body\n",
    "# questions_body_list = get_all_questions_body(\n",
    "#     questions_info[\"titleSlug\"].tolist(),\n",
    "#     questions_info[\"paidOnly\"].tolist(),\n",
    "#     save_to=\"../data/questionBody.pickle\",\n",
    "# )\n",
    "\n",
    "# # Save to a pandas dataframe\n",
    "# questions_body = pd.DataFrame(\n",
    "#     questions_body_list\n",
    "# ).drop(columns=[\"titleSlug\"])\n",
    "# questions_body[\"QID\"] = questions_body[\"QID\"].astype(int)\n",
    "\n",
    "\n",
    "\"\"\" Run the above code stub once and save the data as a pickle file. Using this data\n",
    "from now on since the above code stub is time consuming. \"\"\"\n",
    "\n",
    "with open(\"../data/questionBody.pickle\", \"rb\") as f:\n",
    "    data = pickle.load(f)\n",
    "questions_body = pd.DataFrame(data).drop(columns=[\"titleSlug\"])\n",
    "questions_body[\"QID\"] = questions_body[\"QID\"].astype(int)\n"
   ]
  },
  {
   "attachments": {},
   "cell_type": "markdown",
   "metadata": {},
   "source": [
    "Create a new dataframe with all the questions with their metadata and body information."
   ]
  },
  {
   "cell_type": "code",
   "execution_count": 6,
   "metadata": {},
   "outputs": [],
   "source": [
    "questions = combine_list_and_info(info_df = questions_body, list_df=ls.questions, save_to=\"../data/all.json\")"
   ]
  },
  {
   "attachments": {},
   "cell_type": "markdown",
   "metadata": {},
   "source": [
    "Data Upload to SUPABASE table|s"
   ]
  },
  {
   "cell_type": "code",
   "execution_count": 3,
   "metadata": {},
   "outputs": [],
   "source": [
    "from sqlalchemy import create_engine\n",
    "from sqlalchemy.orm import sessionmaker\n",
    "from dotenv import dotenv_values\n",
    "\n",
    "config = dotenv_values(\"../.env\")\n"
   ]
  },
  {
   "cell_type": "code",
   "execution_count": 22,
   "metadata": {},
   "outputs": [],
   "source": [
    "engine = create_engine(\n",
    "    f\"postgresql://{config['SUPABASE_USERNAME']}:{config['SUPABASE_PASSWORD']}@{config['SUPABASE_HOSTNAME']}:{config['SUPABASE_PORT']}/{config['SUPABASE_DBNAME']}\",\n",
    "    echo=True,\n",
    ")\n",
    "questions.to_sql(con=engine, name=\"questions\", if_exists=\"append\", index=False)\n",
    "ls.topicTags.to_sql(con=engine, name=\"topic_tags\", if_exists=\"append\", index=False)\n",
    "ls.categories.to_sql(con=engine, name=\"categories\", if_exists=\"append\", index=False)\n",
    "ls.companies.to_sql(con=engine, name=\"companies\", if_exists=\"append\", index=False)\n",
    "ls.questionTopics.to_sql(\n",
    "    con=engine, name=\"question_topics\", if_exists=\"append\", index=True, index_label=\"id\"\n",
    ")\n",
    "ls.questionCategory.to_sql(\n",
    "    con=engine,\n",
    "    name=\"question_category\",\n",
    "    if_exists=\"append\",\n",
    "    index=True,\n",
    "    index_label=\"id\",\n",
    ")\n"
   ]
  },
  {
   "attachments": {},
   "cell_type": "markdown",
   "metadata": {},
   "source": [
    "Upload solutions to questions"
   ]
  },
  {
   "cell_type": "code",
   "execution_count": 2,
   "metadata": {},
   "outputs": [],
   "source": [
    "config = dotenv_values(\"../../.env\")\n",
    "eng = create_engine(\n",
    "    f\"postgresql://{config['SUPABASE_USERNAME']}:{config['SUPABASE_PASSWORD']}@{config['SUPABASE_HOSTNAME']}:{config['SUPABASE_PORT']}/{config['SUPABASE_DBNAME']}\",\n",
    "    echo=False,\n",
    ")"
   ]
  },
  {
   "cell_type": "code",
   "execution_count": 3,
   "metadata": {},
   "outputs": [],
   "source": [
    "solutions = extract_solutions(\"../solutions/q_0001_TwoSum.py\")\n",
    "upload_solutions(eng, 1, solutions[1])"
   ]
  },
  {
   "cell_type": "code",
   "execution_count": null,
   "metadata": {},
   "outputs": [],
   "source": []
  }
 ],
 "metadata": {
  "kernelspec": {
   "display_name": ".venv",
   "language": "python",
   "name": "python3"
  },
  "language_info": {
   "codemirror_mode": {
    "name": "ipython",
    "version": 3
   },
   "file_extension": ".py",
   "mimetype": "text/x-python",
   "name": "python",
   "nbconvert_exporter": "python",
   "pygments_lexer": "ipython3",
   "version": "3.10.7"
  },
  "orig_nbformat": 4,
  "vscode": {
   "interpreter": {
    "hash": "b3f3b27324d3dffefcfe684ee5f63d23987742678b59d2ebc9e4a131ef9fcba7"
   }
  }
 },
 "nbformat": 4,
 "nbformat_minor": 2
}
