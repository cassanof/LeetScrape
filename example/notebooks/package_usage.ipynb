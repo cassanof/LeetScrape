{
 "cells": [
  {
   "attachments": {},
   "cell_type": "markdown",
   "metadata": {},
   "source": [
    "Scrape Questions and metadata\n"
   ]
  },
  {
   "cell_type": "code",
   "execution_count": 1,
   "metadata": {},
   "outputs": [],
   "source": [
    "from leetscrape.GetQuestionsList import GetQuestionsList\n",
    "from leetscrape.GetQuestionInfo import GetQuestionInfo\n",
    "from leetscrape.utils import (\n",
    "    combine_list_and_info,\n",
    "    get_all_questions_body,\n",
    ")\n",
    "import pandas as pd\n",
    "import pickle\n",
    "from sqlalchemy import create_engine, update\n",
    "from dotenv import dotenv_values\n"
   ]
  },
  {
   "attachments": {},
   "cell_type": "markdown",
   "metadata": {},
   "source": [
    "Query the question list\n"
   ]
  },
  {
   "cell_type": "code",
   "execution_count": 2,
   "metadata": {},
   "outputs": [
    {
     "name": "stdout",
     "output_type": "stream",
     "text": [
      "Scraping companies ... Done\n",
      "Scraping questions list ... Done\n",
      "Extracting question topics ... Done\n",
      "Getting Categories ... Done\n",
      "Scraping Topic Tags ... Done\n",
      "Extracting question category ... Done\n"
     ]
    }
   ],
   "source": [
    "ls = GetQuestionsList()\n",
    "ls.scrape()  # Scrape the list of questions\n",
    "ls.to_csv(directory_path=\"../data_test/\")  # Save the scraped tables to a directory\n"
   ]
  },
  {
   "attachments": {},
   "cell_type": "markdown",
   "metadata": {},
   "source": [
    "Query Individual question info such as the body, test cases, constraints, hints, code stubs, etc.\n"
   ]
  },
  {
   "cell_type": "code",
   "execution_count": 1,
   "metadata": {},
   "outputs": [
    {
     "data": {
      "text/plain": [
       "1. two-sum\n",
       "Given an array of integers `nums` and an integer `target`, return\n",
       "*indices of the two numbers such that they add up to `target`*.\n",
       "\n",
       "You may assume that each input would have ***exactly* one solution**,\n",
       "and you may not use the *same* element twice.\n",
       "\n",
       "You can return the answer in any order.\n",
       "\n",
       " \n",
       "\n",
       "**Example 1:**\n",
       "\n",
       "    Input: nums = [2,7,11,15], target = 9\n",
       "    Output: [0,1]\n",
       "    Explanation: Because nums[0] + nums[1] == 9, we return [0, 1].\n",
       "\n",
       "**Example 2:**\n",
       "\n",
       "    Input: nums = [3,2,4], target = 6\n",
       "    Output: [1,2]\n",
       "\n",
       "**Example 3:**\n",
       "\n",
       "    Input: nums = [3,3], target = 6\n",
       "    Output: [0,1]\n",
       "\n",
       " \n",
       "\n",
       "**Constraints:**\n",
       "\n",
       "-   `2 <= nums.length <= 10`^`4`^\n",
       "-   `-10`^`9`^` <= nums[i] <= 10`^`9`^\n",
       "-   `-10`^`9`^` <= target <= 10`^`9`^\n",
       "-   **Only one valid answer exists.**\n",
       "\n",
       " \n",
       "\n",
       "**Follow-up: **Can you come up with an algorithm that is less\n",
       "than `O(n`^`2`^`) `time complexity?\n",
       "Hints:\n",
       "    0. A really brute force way would be to search for all possible pairs of numbers but that would be too slow. Again, it's best to try out brute force solutions for just for completeness. It is from these brute force solutions that you can come up with optimizations.\n",
       "    1. So, if we fix one of the numbers, say <code>x</code>, we have to scan the entire array to find the next number <code>y</code> which is <code>value - x</code> where value is the input parameter. Can we change our array somehow so that this search becomes faster?\n",
       "    2. The second train of thought is, without changing the array, can we use additional space somehow? Like maybe a hash map to speed up the search?\n",
       "SimilarQuestions: [15, 18, 167, 170, 560, 653, 1099, 1679, 1711, 2006, 2023, 2200, 2351, 2354, 2367, 2374, 2399, 2395, 2441, 2465]"
      ]
     },
     "execution_count": 1,
     "metadata": {},
     "output_type": "execute_result"
    }
   ],
   "source": [
    "from leetscrape.GetQuestionInfo import GetQuestionInfo\n",
    "qi = GetQuestionInfo(titleSlug=\"two-sum\")\n",
    "qi.scrape()"
   ]
  },
  {
   "cell_type": "code",
   "execution_count": 7,
   "metadata": {},
   "outputs": [],
   "source": [
    "# # This table can be generated using the previous commnd using\n",
    "# # questions_info = ls.questions\n",
    "# questions_info = pd.read_csv(\"../data/questions.csv\")\n",
    "\n",
    "# # Scrape question body\n",
    "# questions_body_list = get_all_questions_body(\n",
    "#     questions_info[\"titleSlug\"].tolist(),\n",
    "#     questions_info[\"paidOnly\"].tolist(),\n",
    "#     save_to=\"../data/questionBody.pickle\",\n",
    "# )\n",
    "\n",
    "# # Save to a pandas dataframe\n",
    "# questions_body = pd.DataFrame(\n",
    "#     questions_body_list\n",
    "# ).drop(columns=[\"titleSlug\"])\n",
    "# questions_body[\"QID\"] = questions_body[\"QID\"].astype(int)\n",
    "\n",
    "\n",
    "\"\"\" Run the above code stub once and save the data as a pickle file. Using this data\n",
    "from now on since the above code stub is time consuming. \"\"\"\n",
    "questions = pd.read_csv(\"../data/questions.csv\")\n",
    "with open(\"../data/questionBody.pickle\", \"rb\") as f:\n",
    "    data = pickle.load(f)\n",
    "questions_body = pd.DataFrame(data).drop(columns=[\"titleSlug\"])\n",
    "questions_body[\"QID\"] = questions_body[\"QID\"].astype(int)\n"
   ]
  },
  {
   "attachments": {},
   "cell_type": "markdown",
   "metadata": {},
   "source": [
    "Create a new dataframe with all the questions with their metadata and body information.\n"
   ]
  },
  {
   "cell_type": "code",
   "execution_count": 8,
   "metadata": {},
   "outputs": [],
   "source": [
    "questions = combine_list_and_info(\n",
    "    info_df=questions_body, list_df=questions, save_to=\"../data/all.json\"\n",
    ")\n"
   ]
  },
  {
   "attachments": {},
   "cell_type": "markdown",
   "metadata": {},
   "source": [
    "Data Upload to SUPABASE table|s\n"
   ]
  },
  {
   "cell_type": "code",
   "execution_count": 7,
   "metadata": {},
   "outputs": [],
   "source": [
    "from sqlalchemy import create_engine\n",
    "from sqlalchemy.orm import sessionmaker\n",
    "from dotenv import dotenv_values\n",
    "\n",
    "config = dotenv_values(\"../../.env\")\n"
   ]
  },
  {
   "cell_type": "code",
   "execution_count": 22,
   "metadata": {},
   "outputs": [],
   "source": [
    "engine = create_engine(\n",
    "    f\"postgresql://{config['SUPABASE_USERNAME']}:{config['SUPABASE_PASSWORD']}@{config['SUPABASE_HOSTNAME']}:{config['SUPABASE_PORT']}/{config['SUPABASE_DBNAME']}\",\n",
    "    echo=True,\n",
    ")\n",
    "questions.to_sql(con=engine, name=\"questions\", if_exists=\"append\", index=False)\n",
    "ls.topicTags.to_sql(con=engine, name=\"topic_tags\", if_exists=\"append\", index=False)\n",
    "ls.categories.to_sql(con=engine, name=\"categories\", if_exists=\"append\", index=False)\n",
    "ls.companies.to_sql(con=engine, name=\"companies\", if_exists=\"append\", index=False)\n",
    "ls.questionTopics.to_sql(\n",
    "    con=engine, name=\"question_topics\", if_exists=\"append\", index=True, index_label=\"id\"\n",
    ")\n",
    "ls.questionCategory.to_sql(\n",
    "    con=engine,\n",
    "    name=\"question_category\",\n",
    "    if_exists=\"append\",\n",
    "    index=True,\n",
    "    index_label=\"id\",\n",
    ")\n"
   ]
  },
  {
   "attachments": {},
   "cell_type": "markdown",
   "metadata": {},
   "source": [
    "Generate questions and test cases"
   ]
  },
  {
   "cell_type": "code",
   "execution_count": 2,
   "metadata": {},
   "outputs": [
    {
     "ename": "ValueError",
     "evalue": "There is no question with the passed titleSlug.",
     "output_type": "error",
     "traceback": [
      "\u001b[1;31m---------------------------------------------------------------------------\u001b[0m",
      "\u001b[1;31mValueError\u001b[0m                                Traceback (most recent call last)",
      "Cell \u001b[1;32mIn[2], line 3\u001b[0m\n\u001b[0;32m      1\u001b[0m \u001b[39mfrom\u001b[39;00m \u001b[39mleetscrape\u001b[39;00m\u001b[39m.\u001b[39;00m\u001b[39mGenerateCodeStub\u001b[39;00m \u001b[39mimport\u001b[39;00m GenerateCodeStub, parse_args\n\u001b[1;32m----> 3\u001b[0m fcs \u001b[39m=\u001b[39m GenerateCodeStub(titleSlug\u001b[39m=\u001b[39;49m\u001b[39m'\u001b[39;49m\u001b[39mtwo-4sum\u001b[39;49m\u001b[39m'\u001b[39;49m)\n\u001b[0;32m      4\u001b[0m \u001b[39m# fcs.generate_code_stub_and_tests()\u001b[39;00m\n",
      "File \u001b[1;32mD:\\code\\Leetcode\\leetscrape\\src\\leetscrape\\GenerateCodeStub.py:78\u001b[0m, in \u001b[0;36mGenerateCodeStub.__init__\u001b[1;34m(self, titleSlug, qid)\u001b[0m\n\u001b[0;32m     74\u001b[0m             \u001b[39mself\u001b[39m\u001b[39m.\u001b[39mqid \u001b[39m=\u001b[39m \u001b[39mself\u001b[39m\u001b[39m.\u001b[39mQUESTIONS_LIST[\n\u001b[0;32m     75\u001b[0m                 \u001b[39mself\u001b[39m\u001b[39m.\u001b[39mQUESTIONS_LIST[\u001b[39m\"\u001b[39m\u001b[39mtitleSlug\u001b[39m\u001b[39m\"\u001b[39m] \u001b[39m==\u001b[39m \u001b[39mself\u001b[39m\u001b[39m.\u001b[39mtitleSlug\n\u001b[0;32m     76\u001b[0m             ]\u001b[39m.\u001b[39mindex[\u001b[39m0\u001b[39m]\n\u001b[0;32m     77\u001b[0m     \u001b[39melse\u001b[39;00m:\n\u001b[1;32m---> 78\u001b[0m         \u001b[39mraise\u001b[39;00m \u001b[39mValueError\u001b[39;00m(\u001b[39m\"\u001b[39m\u001b[39mThere is no question with the passed titleSlug.\u001b[39m\u001b[39m\"\u001b[39m)\n\u001b[0;32m     80\u001b[0m \u001b[39mself\u001b[39m\u001b[39m.\u001b[39mfilename \u001b[39m=\u001b[39m \u001b[39mf\u001b[39m\u001b[39m\"\u001b[39m\u001b[39mq_\u001b[39m\u001b[39m{\u001b[39;00m\u001b[39mstr\u001b[39m(\u001b[39mself\u001b[39m\u001b[39m.\u001b[39mqid)\u001b[39m.\u001b[39mzfill(\u001b[39m4\u001b[39m)\u001b[39m}\u001b[39;00m\u001b[39m_\u001b[39m\u001b[39m{\u001b[39;00mcamel_case(\u001b[39mself\u001b[39m\u001b[39m.\u001b[39mtitleSlug)\u001b[39m}\u001b[39;00m\u001b[39m.py\u001b[39m\u001b[39m\"\u001b[39m\n\u001b[0;32m     81\u001b[0m questionInfoScraper \u001b[39m=\u001b[39m GetQuestionInfo(titleSlug\u001b[39m=\u001b[39m\u001b[39mself\u001b[39m\u001b[39m.\u001b[39mtitleSlug)\n",
      "\u001b[1;31mValueError\u001b[0m: There is no question with the passed titleSlug."
     ]
    }
   ],
   "source": [
    "from leetscrape.GenerateCodeStub import GenerateCodeStub, parse_args\n",
    "\n",
    "fcs = GenerateCodeStub(titleSlug='two-4sum')\n",
    "# fcs.generate_code_stub_and_tests()"
   ]
  },
  {
   "cell_type": "code",
   "execution_count": 43,
   "metadata": {},
   "outputs": [
    {
     "data": {
      "text/plain": [
       "{'Output': True}"
      ]
     },
     "execution_count": 43,
     "metadata": {},
     "output_type": "execute_result"
    }
   ],
   "source": [
    "import re\n",
    "test = \"\"\"\n",
    "Input: s = \"ab\", p = \".*\"\n",
    "Output: true\n",
    "Explanation: \".*\" means \"zero or more (*) of any character (.)\".\n",
    "\"\"\"\n",
    "m = re.search(\"Output: (.*)\\n\", test.replace(\"true\", \"True\").replace(\"false\", \"False\"))\n",
    "parse_args(\n",
    "    m.group(0).replace(\"Output: \", \"Output= \").replace(\"\\n\", \"\")\n",
    ")\n"
   ]
  },
  {
   "attachments": {},
   "cell_type": "markdown",
   "metadata": {},
   "source": [
    "Extract solutions from py file and upload them to the database"
   ]
  },
  {
   "cell_type": "code",
   "execution_count": 1,
   "metadata": {},
   "outputs": [],
   "source": [
    "from leetscrape.ExtractSolutions import ExtractSolutions, upload_solutions\n",
    "from sqlalchemy import create_engine\n",
    "from dotenv import dotenv_values\n",
    "config = dotenv_values(\"../../.env\")"
   ]
  },
  {
   "cell_type": "code",
   "execution_count": 7,
   "metadata": {},
   "outputs": [],
   "source": [
    "\n",
    "eng = create_engine(\n",
    "    f\"postgresql://{config['SUPABASE_USERNAME']}:{config['SUPABASE_PASSWORD']}@{config['SUPABASE_HOSTNAME']}:{config['SUPABASE_PORT']}/{config['SUPABASE_DBNAME']}\",\n",
    "    echo=False,\n",
    ")\n",
    "es = ExtractSolutions(\"D:\\code\\Leetcode\\Leetcode-solutions\\questions\\q_0007_reverseInteger.py\")\n",
    "sols = es.extract()\n",
    "# upload_solutions(eng,7, sols)"
   ]
  },
  {
   "cell_type": "code",
   "execution_count": 9,
   "metadata": {},
   "outputs": [
    {
     "data": {
      "text/plain": [
       "[{'args': ['param', 'x (int)'],\n",
       "  'description': 'A signed 32-bit integer whose digits need to be reversed.',\n",
       "  'arg_name': 'x',\n",
       "  'type_name': 'int',\n",
       "  'is_optional': False,\n",
       "  'default': None}]"
      ]
     },
     "execution_count": 9,
     "metadata": {},
     "output_type": "execute_result"
    }
   ],
   "source": [
    "sols[0]['docs']['args']"
   ]
  },
  {
   "cell_type": "code",
   "execution_count": null,
   "metadata": {},
   "outputs": [],
   "source": []
  }
 ],
 "metadata": {
  "kernelspec": {
   "display_name": ".venv",
   "language": "python",
   "name": "python3"
  },
  "language_info": {
   "codemirror_mode": {
    "name": "ipython",
    "version": 3
   },
   "file_extension": ".py",
   "mimetype": "text/x-python",
   "name": "python",
   "nbconvert_exporter": "python",
   "pygments_lexer": "ipython3",
   "version": "3.10.7"
  },
  "orig_nbformat": 4,
  "vscode": {
   "interpreter": {
    "hash": "b3f3b27324d3dffefcfe684ee5f63d23987742678b59d2ebc9e4a131ef9fcba7"
   }
  }
 },
 "nbformat": 4,
 "nbformat_minor": 2
}
